{
  "nbformat": 4,
  "nbformat_minor": 0,
  "metadata": {
    "accelerator": "GPU",
    "colab": {
      "name": "Clase 2 - Dataset_y_data_augmentation.ipynb",
      "provenance": [],
      "collapsed_sections": [],
      "toc_visible": true,
      "include_colab_link": true
    },
    "kernelspec": {
      "display_name": "Python 3",
      "language": "python",
      "name": "python3"
    },
    "language_info": {
      "codemirror_mode": {
        "name": "ipython",
        "version": 3
      },
      "file_extension": ".py",
      "mimetype": "text/x-python",
      "name": "python",
      "nbconvert_exporter": "python",
      "pygments_lexer": "ipython3",
      "version": "3.7.6"
    }
  },
  "cells": [
    {
      "cell_type": "markdown",
      "metadata": {
        "id": "view-in-github",
        "colab_type": "text"
      },
      "source": [
        "<a href=\"https://colab.research.google.com/github/pascuapablo/CEIA/blob/master/scripts/Clase_2_Dataset_y_data_augmentation.ipynb\" target=\"_parent\"><img src=\"https://colab.research.google.com/assets/colab-badge.svg\" alt=\"Open In Colab\"/></a>"
      ]
    },
    {
      "cell_type": "markdown",
      "metadata": {
        "id": "gnz3-c4GTXm9"
      },
      "source": [
        "# Vamos a utilizar un dataset de perros y gatos para explorar técnicas de Data Augmentation"
      ]
    },
    {
      "cell_type": "code",
      "metadata": {
        "id": "AvXs-cneTXm-"
      },
      "source": [
        "import numpy as np\n",
        "import pandas as pd\n",
        "%matplotlib inline\n",
        "import matplotlib as mpl\n",
        "import matplotlib.pyplot as plt\n",
        "import os"
      ],
      "execution_count": 2,
      "outputs": []
    },
    {
      "cell_type": "code",
      "metadata": {
        "id": "PHVTt9_UTXnC"
      },
      "source": [
        "import tensorflow as tf\n",
        "from tensorflow import keras"
      ],
      "execution_count": 3,
      "outputs": []
    },
    {
      "cell_type": "markdown",
      "metadata": {
        "id": "Zk78JBqATXnG"
      },
      "source": [
        "### DATASET:"
      ]
    },
    {
      "cell_type": "markdown",
      "metadata": {
        "id": "PQ0QRvPATXnH"
      },
      "source": [
        "El Dataset contiene 4000 imágenes de gatos y perros (2000 gatos y 2000 perros). Vamos a usar 2000 imágenes para entrenar, 1000 para validación, 1000 para test."
      ]
    },
    {
      "cell_type": "code",
      "metadata": {
        "colab": {
          "base_uri": "https://localhost:8080/"
        },
        "id": "E-DnI3CtwyaC",
        "outputId": "a1128d50-faac-4904-efbb-d25e40023737"
      },
      "source": [
        "#subir el archivo perros_y_gatos.zip\n",
        "# está acá: https://drive.google.com/file/d/1WgbH_Xt421hNhD4gcfwsvtVsFheJKefm/view?usp=sharing\\\n",
        "!gdown --id 1WgbH_Xt421hNhD4gcfwsvtVsFheJKefm"
      ],
      "execution_count": 4,
      "outputs": [
        {
          "output_type": "stream",
          "text": [
            "Downloading...\n",
            "From: https://drive.google.com/uc?id=1WgbH_Xt421hNhD4gcfwsvtVsFheJKefm\n",
            "To: /content/perros_y_gatos.zip\n",
            "90.8MB [00:01, 50.0MB/s]\n"
          ],
          "name": "stdout"
        }
      ]
    },
    {
      "cell_type": "code",
      "metadata": {
        "id": "VBhyd6J6wcjs"
      },
      "source": [
        "!unzip -o /content/perros_y_gatos.zip  > /dev/null"
      ],
      "execution_count": 5,
      "outputs": []
    },
    {
      "cell_type": "code",
      "metadata": {
        "colab": {
          "base_uri": "https://localhost:8080/"
        },
        "id": "u9zISTEdxYyZ",
        "outputId": "d97316a5-ff20-4410-b89c-c2620289fa85"
      },
      "source": [
        "!ls"
      ],
      "execution_count": 6,
      "outputs": [
        {
          "output_type": "stream",
          "text": [
            "perros_y_gatos.zip  sample_data  test  train  validation\n"
          ],
          "name": "stdout"
        }
      ]
    },
    {
      "cell_type": "code",
      "metadata": {
        "colab": {
          "base_uri": "https://localhost:8080/"
        },
        "id": "BIYh_FdY0l8U",
        "outputId": "4f45ec8c-060b-4919-f5c0-1035b472331f"
      },
      "source": [
        "cd /content"
      ],
      "execution_count": 7,
      "outputs": [
        {
          "output_type": "stream",
          "text": [
            "/content\n"
          ],
          "name": "stdout"
        }
      ]
    },
    {
      "cell_type": "code",
      "metadata": {
        "id": "tomzRUadTXnJ"
      },
      "source": [
        "train_dir = './train'\n",
        "validation_dir = './validation'\n",
        "test_dir = './test'"
      ],
      "execution_count": 8,
      "outputs": []
    },
    {
      "cell_type": "markdown",
      "metadata": {
        "id": "KDrroygKTXnM"
      },
      "source": [
        "### Preprocesamiento de los datos"
      ]
    },
    {
      "cell_type": "markdown",
      "metadata": {
        "id": "assnLl85TXnN"
      },
      "source": [
        "* Leer las imágenes\n",
        "* Decodificar los JPEG en imágenes de píxeles RGB\n",
        "* Convertir estas imágenes en tensores de valores en punto flotante\n",
        "* Reescalar los valores de los píxeles al intervalo [0,1]\n"
      ]
    },
    {
      "cell_type": "code",
      "metadata": {
        "id": "HuOLXZOJTXnN"
      },
      "source": [
        "from tensorflow.keras.preprocessing.image import ImageDataGenerator"
      ],
      "execution_count": 9,
      "outputs": []
    },
    {
      "cell_type": "markdown",
      "metadata": {
        "id": "_0bUApO-TXnR"
      },
      "source": [
        "Link : https://keras.io/preprocessing/image/"
      ]
    },
    {
      "cell_type": "code",
      "metadata": {
        "colab": {
          "base_uri": "https://localhost:8080/"
        },
        "id": "-yyUlq53TXnS",
        "outputId": "c34634c7-7da3-403e-956f-696defd4e9e2"
      },
      "source": [
        "# Así generamos batches desde los directorios de imágenes\n",
        "train_datagen = ImageDataGenerator(rescale=1./255)\n",
        "\n",
        "\n",
        "\n",
        "test_datagen = ImageDataGenerator(rescale=1./255)\n",
        "\n",
        "BATCH_SIZE = 20\n",
        "EPOCHS = 20\n",
        "\n",
        "train_generator = train_datagen.flow_from_directory(\n",
        "        train_dir,\n",
        "        target_size=(150, 150),\n",
        "        batch_size=BATCH_SIZE,\n",
        "        class_mode='binary')\n",
        "\n",
        "validation_generator = test_datagen.flow_from_directory(\n",
        "        validation_dir,\n",
        "        target_size=(150, 150),\n",
        "        batch_size=BATCH_SIZE,\n",
        "        class_mode='binary')"
      ],
      "execution_count": 10,
      "outputs": [
        {
          "output_type": "stream",
          "text": [
            "Found 2000 images belonging to 2 classes.\n",
            "Found 1000 images belonging to 2 classes.\n"
          ],
          "name": "stdout"
        }
      ]
    },
    {
      "cell_type": "code",
      "metadata": {
        "colab": {
          "base_uri": "https://localhost:8080/"
        },
        "id": "jM2FYJIEyEEA",
        "outputId": "8cec8660-4c1b-42bf-e049-089da6f16a10"
      },
      "source": [
        "!ls"
      ],
      "execution_count": 11,
      "outputs": [
        {
          "output_type": "stream",
          "text": [
            "perros_y_gatos.zip  sample_data  test  train  validation\n"
          ],
          "name": "stdout"
        }
      ]
    },
    {
      "cell_type": "code",
      "metadata": {
        "id": "27lf0gY6TXnb"
      },
      "source": [
        "from tensorflow.keras import layers\n",
        "from tensorflow.keras import models\n",
        "from tensorflow.keras import backend as K \n",
        "from tensorflow.keras import optimizers"
      ],
      "execution_count": 12,
      "outputs": []
    },
    {
      "cell_type": "code",
      "metadata": {
        "id": "4dfXCWT9TXne"
      },
      "source": [
        "def buildModel():\n",
        "  K.clear_session()\n",
        "  \n",
        "  model = models.Sequential()\n",
        "\n",
        "  #### COMPLETAR #####\n",
        "\n",
        "  model.add(layers.Conv2D(32, (3,3), activation='relu', padding ='same',input_shape=(150,150,3)))\n",
        "  model.add(layers.MaxPooling2D((2,2)))\n",
        "  model.add(layers.Conv2D(64, (3,3),  padding ='same', activation='relu'))\n",
        "  model.add(layers.MaxPooling2D((2,2)))\n",
        "  model.add(layers.Conv2D(128, (3,3),  padding ='same',activation='relu'))\n",
        "  model.add(layers.MaxPooling2D((2,2)))\n",
        "  model.add(layers.Conv2D(128, (3,3), padding ='same',activation='relu'))\n",
        "  model.add(layers.MaxPooling2D((2,2)))\n",
        "  model.add(layers.Flatten())\n",
        "  model.add(layers.Dense(32, activation='relu'))\n",
        "  model.add(layers.Dense(1, activation='relu'))\n",
        "\n",
        "  # compilar el modelo con binary_crossentropy y optimizador RMSprop con\n",
        "  # learning rate 1e-4, la métrica a usar es la accuracy (acc)\n",
        "\n",
        "  model.compile(loss='binary_crossentropy',\n",
        "                optimizer=optimizers.RMSprop(lr=1e-4),\n",
        "                metrics=['acc'])\n",
        "\n",
        "\n",
        "  \n",
        "  return model\n",
        "\n"
      ],
      "execution_count": 27,
      "outputs": []
    },
    {
      "cell_type": "code",
      "metadata": {
        "id": "F3UOEexBoEM6"
      },
      "source": [
        ""
      ],
      "execution_count": null,
      "outputs": []
    },
    {
      "cell_type": "code",
      "metadata": {
        "id": "KRDYpphQoAqK"
      },
      "source": [
        ""
      ],
      "execution_count": null,
      "outputs": []
    },
    {
      "cell_type": "code",
      "metadata": {
        "colab": {
          "base_uri": "https://localhost:8080/"
        },
        "id": "0cp9q94YTXng",
        "outputId": "b3ee0aa3-ceac-4670-8e37-207dcf4d490f"
      },
      "source": [
        "try:\n",
        "  del model\n",
        "except: \n",
        "  pass\n",
        "\n",
        "model = buildModel()\n",
        "model.summary()"
      ],
      "execution_count": 14,
      "outputs": [
        {
          "output_type": "stream",
          "text": [
            "Model: \"sequential\"\n",
            "_________________________________________________________________\n",
            "Layer (type)                 Output Shape              Param #   \n",
            "=================================================================\n",
            "conv2d (Conv2D)              (None, 148, 148, 32)      896       \n",
            "_________________________________________________________________\n",
            "max_pooling2d (MaxPooling2D) (None, 74, 74, 32)        0         \n",
            "_________________________________________________________________\n",
            "conv2d_1 (Conv2D)            (None, 72, 72, 64)        18496     \n",
            "_________________________________________________________________\n",
            "max_pooling2d_1 (MaxPooling2 (None, 36, 36, 64)        0         \n",
            "_________________________________________________________________\n",
            "conv2d_2 (Conv2D)            (None, 34, 34, 128)       73856     \n",
            "_________________________________________________________________\n",
            "max_pooling2d_2 (MaxPooling2 (None, 17, 17, 128)       0         \n",
            "_________________________________________________________________\n",
            "conv2d_3 (Conv2D)            (None, 15, 15, 128)       147584    \n",
            "_________________________________________________________________\n",
            "max_pooling2d_3 (MaxPooling2 (None, 7, 7, 128)         0         \n",
            "_________________________________________________________________\n",
            "flatten (Flatten)            (None, 6272)              0         \n",
            "_________________________________________________________________\n",
            "dense (Dense)                (None, 32)                200736    \n",
            "_________________________________________________________________\n",
            "dense_1 (Dense)              (None, 1)                 33        \n",
            "=================================================================\n",
            "Total params: 441,601\n",
            "Trainable params: 441,601\n",
            "Non-trainable params: 0\n",
            "_________________________________________________________________\n"
          ],
          "name": "stdout"
        }
      ]
    },
    {
      "cell_type": "code",
      "metadata": {
        "colab": {
          "base_uri": "https://localhost:8080/"
        },
        "id": "VCXq57TfTXnn",
        "outputId": "e942c500-1ec5-409b-81dd-e9ae75bb5ae6"
      },
      "source": [
        "# utilizar model.fit_generator para entrenar\n",
        "history = model.fit(\n",
        "      train_generator,\n",
        "      # steps_per_epoch=100,\n",
        "      epochs=EPOCHS,\n",
        "      validation_data=validation_generator,\n",
        "      # validation_steps=\n",
        "      )"
      ],
      "execution_count": 15,
      "outputs": [
        {
          "output_type": "stream",
          "text": [
            "Epoch 1/20\n",
            "100/100 [==============================] - 9s 93ms/step - loss: 0.6957 - acc: 0.5705 - val_loss: 0.6640 - val_acc: 0.5850\n",
            "Epoch 2/20\n",
            "100/100 [==============================] - 9s 93ms/step - loss: 0.6629 - acc: 0.6115 - val_loss: 0.6342 - val_acc: 0.6550\n",
            "Epoch 3/20\n",
            "100/100 [==============================] - 9s 91ms/step - loss: 0.6417 - acc: 0.6325 - val_loss: 0.6495 - val_acc: 0.5920\n",
            "Epoch 4/20\n",
            "100/100 [==============================] - 9s 92ms/step - loss: 0.6045 - acc: 0.6565 - val_loss: 0.6127 - val_acc: 0.6520\n",
            "Epoch 5/20\n",
            "100/100 [==============================] - 9s 92ms/step - loss: 0.5978 - acc: 0.7010 - val_loss: 0.5927 - val_acc: 0.6800\n",
            "Epoch 6/20\n",
            "100/100 [==============================] - 9s 91ms/step - loss: 0.5616 - acc: 0.7250 - val_loss: 0.5843 - val_acc: 0.7030\n",
            "Epoch 7/20\n",
            "100/100 [==============================] - 9s 91ms/step - loss: 0.5091 - acc: 0.7550 - val_loss: 0.5977 - val_acc: 0.7040\n",
            "Epoch 8/20\n",
            "100/100 [==============================] - 9s 93ms/step - loss: 0.5162 - acc: 0.7625 - val_loss: 0.6183 - val_acc: 0.7170\n",
            "Epoch 9/20\n",
            "100/100 [==============================] - 9s 93ms/step - loss: 0.4744 - acc: 0.7755 - val_loss: 0.8719 - val_acc: 0.6990\n",
            "Epoch 10/20\n",
            "100/100 [==============================] - 9s 91ms/step - loss: 0.4737 - acc: 0.7880 - val_loss: 0.6909 - val_acc: 0.7140\n",
            "Epoch 11/20\n",
            "100/100 [==============================] - 9s 90ms/step - loss: 0.4424 - acc: 0.8080 - val_loss: 0.7441 - val_acc: 0.7080\n",
            "Epoch 12/20\n",
            "100/100 [==============================] - 9s 91ms/step - loss: 0.4091 - acc: 0.8100 - val_loss: 0.6888 - val_acc: 0.7350\n",
            "Epoch 13/20\n",
            "100/100 [==============================] - 9s 91ms/step - loss: 0.3938 - acc: 0.8305 - val_loss: 0.7474 - val_acc: 0.7330\n",
            "Epoch 14/20\n",
            "100/100 [==============================] - 9s 91ms/step - loss: 0.3732 - acc: 0.8410 - val_loss: 0.8601 - val_acc: 0.7400\n",
            "Epoch 15/20\n",
            "100/100 [==============================] - 9s 90ms/step - loss: 0.3638 - acc: 0.8520 - val_loss: 1.0370 - val_acc: 0.7130\n",
            "Epoch 16/20\n",
            "100/100 [==============================] - 9s 91ms/step - loss: 0.3276 - acc: 0.8670 - val_loss: 0.9021 - val_acc: 0.7150\n",
            "Epoch 17/20\n",
            "100/100 [==============================] - 9s 90ms/step - loss: 0.2930 - acc: 0.8765 - val_loss: 0.9786 - val_acc: 0.7280\n",
            "Epoch 18/20\n",
            "100/100 [==============================] - 9s 89ms/step - loss: 0.2558 - acc: 0.8900 - val_loss: 1.4648 - val_acc: 0.6930\n",
            "Epoch 19/20\n",
            "100/100 [==============================] - 9s 89ms/step - loss: 0.2449 - acc: 0.9030 - val_loss: 1.3841 - val_acc: 0.7200\n",
            "Epoch 20/20\n",
            "100/100 [==============================] - 9s 90ms/step - loss: 0.2312 - acc: 0.9210 - val_loss: 1.3191 - val_acc: 0.7180\n"
          ],
          "name": "stdout"
        }
      ]
    },
    {
      "cell_type": "code",
      "metadata": {
        "colab": {
          "base_uri": "https://localhost:8080/",
          "height": 324
        },
        "id": "Cl1_o5PlTXnq",
        "outputId": "53988571-c8ce-4429-db3f-51052b2bf935"
      },
      "source": [
        "pd.DataFrame(history.history).plot(figsize=(8, 5))\n",
        "plt.grid(True)\n",
        "plt.gca().set_ylim(0, 1)\n",
        "plt.show()"
      ],
      "execution_count": 16,
      "outputs": [
        {
          "output_type": "display_data",
          "data": {
            "image/png": "[encoded data removed]",
            "text/plain": [
              "<Figure size 576x360 with 1 Axes>"
            ]
          },
          "metadata": {
            "tags": [],
            "needs_background": "light"
          }
        }
      ]
    },
    {
      "cell_type": "markdown",
      "metadata": {
        "id": "0lNZqKvXTXnv"
      },
      "source": [
        "### DATA AUGMENTATION"
      ]
    },
    {
      "cell_type": "markdown",
      "metadata": {
        "id": "O4YwS2n2TXnw"
      },
      "source": [
        "Distorsión, Rotación, Crop, Flip horizontal: \n",
        "![image.png](attachment:image.png)"
      ]
    },
    {
      "cell_type": "markdown",
      "metadata": {
        "id": "idlLIwPuTXnw"
      },
      "source": [
        "Vamos a distorsionar (estirando y escalando), rotar las imágenes, invertirlas horizontalmente, hacer zoom en una región, esto va a ser aleatorio dentro de un cierto rango, utilizar ImageDataGenerator con parámetros para que esto ocurra.\n",
        "\n",
        "https://keras.io/api/preprocessing/image/\n",
        "\n",
        "https://github.com/keras-team/keras-preprocessing/blob/master/keras_preprocessing/image/image_data_generator.py\n",
        "\n",
        "https://github.com/keras-team/keras-preprocessing/blob/master/keras_preprocessing/image/affine_transformations.py\n",
        "\n",
        "usar:\n",
        "\n",
        "- rotation_range -> rango aleatorio de angulo de rotacions\n",
        "- width_shift_range -> rango aleatorio de desplazamiento en x expresado como proporcion de la imagen [0,1]\n",
        "- height_shift_range -> rango aleatorio de desplazamiento en y expresado como proporcion de la imagen [0,1]\n",
        "- shear_range -> rango aleatorio de 'shear' o cillamiento https://en.wikipedia.org/wiki/Shear_mapping [0,1]\n",
        "- zoom_range -> rango aleatorio de zoom de la imagen [0,1]\n",
        "- horizontal_flip -> boolean (si se flipea aleatoriamente la imagen en la dirección horizontal)"
      ]
    },
    {
      "cell_type": "code",
      "metadata": {
        "colab": {
          "base_uri": "https://localhost:8080/"
        },
        "id": "_4AfTtUYTXnx",
        "outputId": "32dbc90a-13e2-4770-8e39-285387159aef"
      },
      "source": [
        "train_datagen = ImageDataGenerator(\n",
        "    rescale=1./255,\n",
        "    shear_range=20,\n",
        "    zoom_range = 20,\n",
        "    horizontal_flip = True,\n",
        "    width_shift_range = 0.1,\n",
        "    height_shift_range = 0.1,\n",
        "    )\n",
        "\n",
        "test_datagen = ImageDataGenerator(rescale=1./255)\n",
        "\n",
        "\n",
        "validation_generator = test_datagen.flow_from_directory(\n",
        "        validation_dir,\n",
        "        target_size=(150, 150),\n",
        "        batch_size=BATCH_SIZE,\n",
        "        class_mode='binary')\n",
        "\n",
        "\n",
        "train_generator = train_datagen.flow_from_directory(\n",
        "        train_dir,\n",
        "        target_size=(150, 150),\n",
        "        batch_size=BATCH_SIZE,\n",
        "        class_mode='binary')\n"
      ],
      "execution_count": 32,
      "outputs": [
        {
          "output_type": "stream",
          "text": [
            "Found 1000 images belonging to 2 classes.\n",
            "Found 2000 images belonging to 2 classes.\n"
          ],
          "name": "stdout"
        }
      ]
    },
    {
      "cell_type": "code",
      "metadata": {
        "id": "7EIKRxpHTXn2"
      },
      "source": [
        "try:\n",
        "  del model2\n",
        "except: \n",
        "  pass\n",
        "model2 = buildModel()"
      ],
      "execution_count": 33,
      "outputs": []
    },
    {
      "cell_type": "code",
      "metadata": {
        "colab": {
          "base_uri": "https://localhost:8080/"
        },
        "id": "zw0xmIUuTXn4",
        "outputId": "eeff1a9d-8dae-46e5-9596-772c7074e9a9"
      },
      "source": [
        "history2 = model2.fit(\n",
        "      train_generator,\n",
        "      epochs=EPOCHS,\n",
        "      validation_data=validation_generator,\n",
        "      )"
      ],
      "execution_count": 34,
      "outputs": [
        {
          "output_type": "stream",
          "text": [
            "Epoch 1/20\n",
            "100/100 [==============================] - 21s 207ms/step - loss: 0.7532 - acc: 0.5040 - val_loss: 0.6685 - val_acc: 0.5830\n",
            "Epoch 2/20\n",
            "100/100 [==============================] - 20s 204ms/step - loss: 0.7229 - acc: 0.5375 - val_loss: 0.7163 - val_acc: 0.5240\n",
            "Epoch 3/20\n",
            "100/100 [==============================] - 20s 202ms/step - loss: 0.6965 - acc: 0.5400 - val_loss: 0.6610 - val_acc: 0.6110\n",
            "Epoch 4/20\n",
            "100/100 [==============================] - 20s 202ms/step - loss: 0.7096 - acc: 0.5520 - val_loss: 0.6702 - val_acc: 0.5800\n",
            "Epoch 5/20\n",
            "100/100 [==============================] - 20s 200ms/step - loss: 0.7033 - acc: 0.5695 - val_loss: 1.0190 - val_acc: 0.5110\n",
            "Epoch 6/20\n",
            "100/100 [==============================] - 20s 201ms/step - loss: 0.7026 - acc: 0.5740 - val_loss: 0.6542 - val_acc: 0.5900\n",
            "Epoch 7/20\n",
            "100/100 [==============================] - 20s 202ms/step - loss: 0.6940 - acc: 0.5640 - val_loss: 0.6866 - val_acc: 0.5570\n",
            "Epoch 8/20\n",
            "100/100 [==============================] - 20s 201ms/step - loss: 0.6875 - acc: 0.5710 - val_loss: 0.6668 - val_acc: 0.5720\n",
            "Epoch 9/20\n",
            "100/100 [==============================] - 20s 201ms/step - loss: 0.6769 - acc: 0.6100 - val_loss: 0.6859 - val_acc: 0.5590\n",
            "Epoch 10/20\n",
            "100/100 [==============================] - 20s 204ms/step - loss: 0.6769 - acc: 0.5875 - val_loss: 1.9594 - val_acc: 0.5100\n",
            "Epoch 11/20\n",
            "100/100 [==============================] - 20s 202ms/step - loss: 0.6954 - acc: 0.6015 - val_loss: 0.6715 - val_acc: 0.5750\n",
            "Epoch 12/20\n",
            "100/100 [==============================] - 20s 201ms/step - loss: 0.6827 - acc: 0.6055 - val_loss: 0.7179 - val_acc: 0.5780\n",
            "Epoch 13/20\n",
            "100/100 [==============================] - 20s 203ms/step - loss: 0.6647 - acc: 0.6005 - val_loss: 0.6838 - val_acc: 0.5800\n",
            "Epoch 14/20\n",
            "100/100 [==============================] - 20s 200ms/step - loss: 0.6701 - acc: 0.6195 - val_loss: 0.8487 - val_acc: 0.5380\n",
            "Epoch 15/20\n",
            "100/100 [==============================] - 20s 200ms/step - loss: 0.6833 - acc: 0.6155 - val_loss: 0.7454 - val_acc: 0.5700\n",
            "Epoch 16/20\n",
            "100/100 [==============================] - 20s 198ms/step - loss: 0.6964 - acc: 0.6200 - val_loss: 0.7854 - val_acc: 0.5710\n",
            "Epoch 17/20\n",
            "100/100 [==============================] - 20s 200ms/step - loss: 0.6792 - acc: 0.6160 - val_loss: 0.9780 - val_acc: 0.5420\n",
            "Epoch 18/20\n",
            "100/100 [==============================] - 20s 201ms/step - loss: 0.6838 - acc: 0.6090 - val_loss: 0.6841 - val_acc: 0.5970\n",
            "Epoch 19/20\n",
            "100/100 [==============================] - 20s 198ms/step - loss: 0.6823 - acc: 0.6215 - val_loss: 0.8511 - val_acc: 0.5620\n",
            "Epoch 20/20\n",
            "100/100 [==============================] - 19s 194ms/step - loss: 0.7310 - acc: 0.6440 - val_loss: 0.8015 - val_acc: 0.5690\n"
          ],
          "name": "stdout"
        }
      ]
    },
    {
      "cell_type": "code",
      "metadata": {
        "id": "jn93iMM7TXn8"
      },
      "source": [
        "pd.DataFrame(history2.history).plot(figsize=(8, 5))\n",
        "plt.grid(True)\n",
        "plt.gca().set_ylim(0, 1)\n",
        "plt.show()\n"
      ],
      "execution_count": null,
      "outputs": []
    },
    {
      "cell_type": "code",
      "metadata": {
        "id": "Uq-4lE4t6Qpf"
      },
      "source": [
        "train_datagen = ImageDataGenerator(\n",
        "    rescale=1./255,\n",
        "    rotation_range=90,\n",
        "    zoom_range = 50,\n",
        "    horizontal_flip = True,\n",
        "    width_shift_range = 0.4,\n",
        "    height_shift_range = 0.4,\n",
        "    shear_range = 0.4\n",
        "    )\n",
        "\n",
        "test_datagen = ImageDataGenerator(rescale=1./255)\n",
        "\n",
        "\n",
        "validation_generator = test_datagen.flow_from_directory(\n",
        "        validation_dir,\n",
        "        target_size=(150, 150),\n",
        "        batch_size=BATCH_SIZE,\n",
        "        class_mode='binary')\n",
        "\n",
        "\n",
        "train_generator = train_datagen.flow_from_directory(\n",
        "        train_dir,\n",
        "        target_size=(150, 150),\n",
        "        batch_size=BATCH_SIZE,\n",
        "        class_mode='binary')\n",
        "\n",
        "\n",
        "try:\n",
        "  del model3\n",
        "except: \n",
        "  pass\n",
        "model3 = buildModel()\n",
        "\n",
        "history3 = model2.fit(\n",
        "      train_generator,\n",
        "      epochs=EPOCHS,\n",
        "      validation_data=validation_generator,\n",
        "      )\n",
        "\n",
        "pd.DataFrame(history2.history).plot(figsize=(8, 5))\n",
        "plt.grid(True)\n",
        "plt.gca().set_ylim(0, 1)\n",
        "plt.show()"
      ],
      "execution_count": null,
      "outputs": []
    }
  ]
}